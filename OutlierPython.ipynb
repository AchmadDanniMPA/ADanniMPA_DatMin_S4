{
  "nbformat": 4,
  "nbformat_minor": 0,
  "metadata": {
    "colab": {
      "provenance": [],
      "authorship_tag": "ABX9TyN1iYN2x4cHsNNL88i+aoU/",
      "include_colab_link": true
    },
    "kernelspec": {
      "name": "python3",
      "display_name": "Python 3"
    },
    "language_info": {
      "name": "python"
    }
  },
  "cells": [
    {
      "cell_type": "markdown",
      "metadata": {
        "id": "view-in-github",
        "colab_type": "text"
      },
      "source": [
        "<a href=\"https://colab.research.google.com/github/AchmadDanniMPA/ADanniMPA_DatMin_S4/blob/main/OutlierPython.ipynb\" target=\"_parent\"><img src=\"https://colab.research.google.com/assets/colab-badge.svg\" alt=\"Open In Colab\"/></a>"
      ]
    },
    {
      "cell_type": "code",
      "execution_count": null,
      "metadata": {
        "id": "ZzkDeN9h2KLe"
      },
      "outputs": [],
      "source": [
        "import numpy as np\n",
        "#data\n",
        "data = [5, 7, 9, 3, 4, -20, 3, 8, 8, 6, 90, 7, 56]\n",
        "#outlier contoh -20\n",
        "\n",
        "# Hitung nilai Q1 dan Q3\n",
        "Q1 = np.quantile(data, .25)\n",
        "Q3 = np.quantile(data, .75)\n",
        "\n",
        "print('===========================================')\n",
        "# Hitung nilai IQR\n",
        "IQR = Q3 - Q1\n",
        "#print out\n",
        "print('Kuartil 1 = ', Q1)\n",
        "print('Kuartil 3 = ', Q3)\n",
        "print('IQR = ', IQR)\n",
        "\n",
        "print('===========================================')\n",
        "# Hitung nilai IQR min dan maks\n",
        "min_IQR = Q1 - 1.5 * IQR\n",
        "max_IQR = Q3 + 1.5 * IQR\n",
        "print('IQR minimum = ', min_IQR)\n",
        "print('IQR maksimum = ', max_IQR)\n",
        "\n",
        "print('===========================================')\n",
        "#Cari nilai min dan maks dari data\n",
        "nilai_min = np.min(data)\n",
        "nilai_max = np.max(data)\n",
        "print('Nilai minimum data = ', nilai_min)\n",
        "print('Nilai maksimum data = ', nilai_max)\n",
        "\n",
        "print('===========================================')\n",
        "#Mendifinisikan kondisi outlier\n",
        "if (nilai_min < min_IQR):\n",
        "    print('Ditemukan low outlier!')\n",
        "else:\n",
        "    print('Tidak ditemukan low outlier!')\n",
        "\n",
        "if (nilai_max > max_IQR):\n",
        "    print('Ditemukan high outlier!')\n",
        "else:\n",
        "    print('Tidak ditemukan high outlier!')\n",
        "#print\n",
        "low_out = []\n",
        "high_out = []\n",
        "\n",
        "for i in data:\n",
        "    if (i < min_IQR):\n",
        "        low_out.append(i)\n",
        "    if (i > max_IQR):\n",
        "        high_out.append(i)\n",
        "\n",
        "print('Low outlier : ', low_out)\n",
        "print('High outlier : ', high_out)"
      ]
    }
  ]
}